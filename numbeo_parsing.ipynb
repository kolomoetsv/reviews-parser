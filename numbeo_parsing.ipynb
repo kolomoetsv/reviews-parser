{
 "cells": [
  {
   "cell_type": "code",
   "execution_count": 1,
   "metadata": {},
   "outputs": [
    {
     "name": "stdout",
     "output_type": "stream",
     "text": [
      "Libraries imported\n"
     ]
    }
   ],
   "source": [
    "#Import necessary libraries\n",
    "\n",
    "import pandas as pd #data preprocessing\n",
    "from bs4 import BeautifulSoup #web-scraping\n",
    "import requests #HTTP/1.1 requests\n",
    "import json #JSON encoder and decoder\n",
    "import re #regular expression operations\n",
    "from mysql.connector import connect, Error #database connector\n",
    "print('Libraries imported')"
   ]
  },
  {
   "cell_type": "code",
   "execution_count": 5,
   "metadata": {},
   "outputs": [],
   "source": [
    "# Constant part of the website URL\n",
    "url_const = 'https://www.numbeo.com/quality-of-life/rankings_by_country.jsp?title='\n",
    "\n",
    "# User agent parameters\n",
    "headers = {'headers': json.dumps({\n",
    "             'Accept': 'text/html,application/xhtml+xml,application/xml;q=0.9,image/webp,image/apng,*/*;q=0.8,application/signed-exchange;v=b3;q=0.9',\n",
    "             'Accept-Encoding': 'gzip, deflate',\n",
    "             'Accept-Language': 'en-GB,en-US;q=0.9,en;q=0.8',\n",
    "             'Dnt': '1',\n",
    "             'Host': 'httpbin.org',\n",
    "             'Upgrade-Insecure-Requests': '1',\n",
    "             'User-Agent': 'Mozilla/5.0 (Macintosh; Intel Mac OS X 10_15_4) '\n",
    "                           'AppleWebKit/537.36 (KHTML, like Gecko) '\n",
    "                           'Chrome/83.0.4103.97 Safari/537.36',\n",
    "             'X-Amzn-Trace-Id': 'Root=1-5ee7bbec-779382315873aa33227a5df6'})\n",
    "          }\n"
   ]
  },
  {
   "cell_type": "code",
   "execution_count": null,
   "metadata": {},
   "outputs": [],
   "source": [
    "#Connect to the database\n",
    "try:\n",
    "    with connect(\n",
    "        host='localhost',\n",
    "        user='root',\n",
    "        password='root',\n",
    "        database=\"online_movie_rating\",\n",
    "    ) as connection:\n",
    "        print(connection)\n",
    "except Error as e:\n",
    "    print(e)"
   ]
  },
  {
   "cell_type": "code",
   "execution_count": 6,
   "metadata": {},
   "outputs": [],
   "source": [
    "years = ['2012-Q1', '2013-Q1', '2014', '2015', '2016', '2017', '2018', '2019', '2020', '2021']\n",
    "\n",
    "for year in years:\n",
    "    url = url_const + year\n",
    "    # Make a GET request to fetch the raw HTML content\n",
    "    html_content = requests.get(url, headers=headers).text\n",
    "\n",
    "    # Parse HTML code for the entire site\n",
    "    soup = BeautifulSoup(html_content, \"lxml\")\n",
    "    \n",
    "    # Find all tables on a page\n",
    "    tables = soup.find_all('table')\n",
    "    # Lets go ahead and scrape second table with HTML code tables[1]\n",
    "    table1 = tables[1]\n",
    "    # the head will form our column names\n",
    "    body = table1.find_all(\"tr\")\n",
    "    # Head values (Column names) are the first items of the body list\n",
    "    head = body[0] # 0th item is the header row\n",
    "    body_rows = body[1:] # All other items becomes the rest of the rows\n",
    "\n",
    "    # Lets now iterate through the head HTML code and make list of clean headings\n",
    "\n",
    "    # Declare empty list to keep Columns names\n",
    "    headings = []\n",
    "    for item in head.find_all(\"th\"): # loop through all th elements\n",
    "        # convert the th elements to text and strip \"\\n\"\n",
    "        item = (item.text).rstrip(\"\\n\")\n",
    "        # append the clean column name to headings\n",
    "        headings.append(item)\n",
    "    # Next is now to loop through the rest of the rows\n",
    "    all_rows = [] # will be a list for list for all rows\n",
    "    for row_num in range(len(body_rows)): # A row at a time\n",
    "        row = [] # this will add entries for one row\n",
    "        for row_item in body_rows[row_num].find_all(\"td\"): #loop through all row entries\n",
    "            # row_item.text removes the tags from the entries\n",
    "            # the following regex is to remove \\xa0 and \\n and comma from row_item.text\n",
    "            # xa0 encodes the flag, \\n is the newline and comma separates thousands in numbers\n",
    "            aa = re.sub(\"(\\xa0)|(\\n)|,\",\"\",row_item.text)\n",
    "            #append aa to row - note one row entry is being appended\n",
    "            row.append(aa)\n",
    "        # append one row to all_rows\n",
    "        all_rows.append(row)   \n",
    "        # We can now use the data on all_rowsa and headings to make a table\n",
    "    # all_rows becomes our data and headings the column names\n",
    "    df = pd.DataFrame(data=all_rows,columns=headings)"
   ]
  }
 ],
 "metadata": {
  "kernelspec": {
   "display_name": "Python 3",
   "language": "python",
   "name": "python3"
  },
  "language_info": {
   "codemirror_mode": {
    "name": "ipython",
    "version": 3
   },
   "file_extension": ".py",
   "mimetype": "text/x-python",
   "name": "python",
   "nbconvert_exporter": "python",
   "pygments_lexer": "ipython3",
   "version": "3.8.3"
  }
 },
 "nbformat": 4,
 "nbformat_minor": 4
}
